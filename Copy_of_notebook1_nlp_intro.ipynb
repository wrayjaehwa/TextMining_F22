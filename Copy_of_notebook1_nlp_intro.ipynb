{
  "cells": [
    {
      "cell_type": "markdown",
      "metadata": {
        "id": "view-in-github",
        "colab_type": "text"
      },
      "source": [
        "<a href=\"https://colab.research.google.com/github/wrayjaehwa/TextMining_F22/blob/main/Copy_of_notebook1_nlp_intro.ipynb\" target=\"_parent\"><img src=\"https://colab.research.google.com/assets/colab-badge.svg\" alt=\"Open In Colab\"/></a>"
      ]
    },
    {
      "cell_type": "code",
      "execution_count": 2,
      "metadata": {
        "tags": [],
        "colab": {
          "base_uri": "https://localhost:8080/"
        },
        "id": "mARFkJ5Pwtf9",
        "outputId": "87b740e5-a1b0-4e4e-ce99-7ef54bec1196"
      },
      "outputs": [
        {
          "output_type": "stream",
          "name": "stderr",
          "text": [
            "[nltk_data] Downloading package punkt to /root/nltk_data...\n",
            "[nltk_data]   Unzipping tokenizers/punkt.zip.\n"
          ]
        },
        {
          "output_type": "stream",
          "name": "stdout",
          "text": [
            "1 \"Why didn't she text me back yet?\n",
            "2 She doesn't like me anymore!\"\n",
            "3 There's no way I'm trying out for the team.\n"
          ]
        }
      ],
      "source": [
        "from nltk import sent_tokenize\n",
        "from nltk import download\n",
        "download('punkt')\n",
        "\n",
        "text1 = '''\"Why didn't she text me back yet? She doesn't like me anymore!\" There's no way I'm trying out for the team.'''\n",
        "\n",
        "sents = sent_tokenize(text1)\n",
        "\n",
        "for i, s in enumerate(sents):\n",
        "  print(i+1, s)"
      ]
    },
    {
      "cell_type": "code",
      "execution_count": 3,
      "metadata": {
        "tags": [],
        "id": "P0PHC8o7wtgB",
        "outputId": "1e4c7844-800c-4c3e-828f-ca62450a4c90",
        "colab": {
          "base_uri": "https://localhost:8080/"
        }
      },
      "outputs": [
        {
          "output_type": "stream",
          "name": "stdout",
          "text": [
            "['', 'Why', 'didn', 't', 'she', 'text', 'me', 'back', 'yet', '', 'She', 'doesn', 't', 'like', 'me', 'anymore', '', '', 'There', 's', 'no', 'way', 'I', 'm', 'trying', 'out', 'for', 'the', 'team', '']\n"
          ]
        }
      ],
      "source": [
        "import re\n",
        "words = re.split(r'[.,!? \"\\']', text1)\n",
        "print(words)"
      ]
    },
    {
      "cell_type": "code",
      "execution_count": 4,
      "metadata": {
        "colab": {
          "base_uri": "https://localhost:8080/"
        },
        "id": "FEqb0t3RwtgC",
        "outputId": "58033605-dcbf-4a01-e7c5-4ad8ad7abd13"
      },
      "outputs": [
        {
          "output_type": "stream",
          "name": "stdout",
          "text": [
            "1 USB4 is done, the group developing the next version of the immensely successful USB connector technology said Tuesday.\n",
            "2 USB4 doubles speeds compared to today's fastest USB 3.2 by incorporating Intel's speedy Thunderbolt technology that you already see on high-end laptops and peripherals.\n",
            "3 The USB Implementers Forum announced the completion of the technical specification Tuesday, a move that frees hardware and software engineers to get cracking building the actual products to support it.\n",
            "4 Today's USB 3.2, which enables data transfer speeds up to 20 gigabits per second, is still something of a rarity; most of us have earlier versions of the technology that works at 5Gbps or 10Gbps.\n",
            "5 USB4 promises a speed boost to 40Gbps, helpful for things like using multiple external displays or fetching files from external hard drives.\n"
          ]
        }
      ],
      "source": [
        "text2 = '''USB4 is done, the group developing the next version of the immensely successful USB connector technology said Tuesday. USB4 doubles speeds compared to today's fastest USB 3.2 by incorporating Intel's speedy Thunderbolt technology that you already see on high-end laptops and peripherals. The USB Implementers Forum announced the completion of the technical specification Tuesday, a move that frees hardware and software engineers to get cracking building the actual products to support it.\n",
        "\n",
        "Today's USB 3.2, which enables data transfer speeds up to 20 gigabits per second, is still something of a rarity; most of us have earlier versions of the technology that works at 5Gbps or 10Gbps. USB4 promises a speed boost to 40Gbps, helpful for things like using multiple external displays or fetching files from external hard drives.'''\n",
        "sents2= sent_tokenize(text2)\n",
        "for i, s in enumerate(sents2):\n",
        "  print(i+1, s)"
      ]
    },
    {
      "cell_type": "code",
      "execution_count": 5,
      "metadata": {
        "tags": [],
        "colab": {
          "base_uri": "https://localhost:8080/"
        },
        "id": "aMmoqP6DwtgC",
        "outputId": "d7e50ffa-1677-4d8f-db5d-30d553cb9940"
      },
      "outputs": [
        {
          "output_type": "stream",
          "name": "stdout",
          "text": [
            "['``', 'Why', 'did', \"n't\", 'she', 'text', 'me', 'back', 'yet', '?', 'She', 'does', \"n't\", 'like', 'me', 'anymore', '!', \"''\", 'There', \"'s\", 'no', 'way', 'I', \"'m\", 'trying', 'out', 'for', 'the', 'team', '.']\n"
          ]
        }
      ],
      "source": [
        "from nltk import word_tokenize\n",
        "words = word_tokenize(text1)\n",
        "print(words)"
      ]
    },
    {
      "cell_type": "code",
      "execution_count": 6,
      "metadata": {
        "tags": [],
        "colab": {
          "base_uri": "https://localhost:8080/"
        },
        "id": "tPbeuyuiwtgD",
        "outputId": "8f2c3bd9-5c0a-44d2-9396-c9623096d769"
      },
      "outputs": [
        {
          "output_type": "stream",
          "name": "stdout",
          "text": [
            "!\"#$%&'()*+,-./:;<=>?@[\\]^_`{|}~\n",
            "['Why', 'did', \"n't\", 'she', 'text', 'me', 'back', 'yet', 'She', 'does', \"n't\", 'like', 'me', 'anymore', 'There', 'no', 'way', 'I', 'trying', 'out', 'for', 'the', 'team']\n"
          ]
        }
      ],
      "source": [
        "from string import punctuation\n",
        "print(punctuation)\n",
        "\n",
        "words_no_punkt = [w for w in words if w[0] not in punctuation] # list comprehension\n",
        "'''l = []\n",
        "for w in words:\n",
        "    if w[0] not in punctuation:\n",
        "        l.append(w)'''\n",
        "print(words_no_punkt)"
      ]
    },
    {
      "cell_type": "code",
      "execution_count": 7,
      "metadata": {
        "tags": [],
        "colab": {
          "base_uri": "https://localhost:8080/"
        },
        "id": "EO2NTiAnwtgE",
        "outputId": "616326c0-cfeb-4c81-fe4e-a3623d72dee3"
      },
      "outputs": [
        {
          "output_type": "stream",
          "name": "stdout",
          "text": [
            "# words lowercase 23\n",
            "['why', 'did', \"n't\", 'she', 'text', 'me', 'back', 'yet', 'she', 'does', \"n't\", 'like', 'me', 'anymore', 'there', 'no', 'way', 'i', 'trying', 'out', 'for', 'the', 'team']\n"
          ]
        }
      ],
      "source": [
        "# lower case all words\n",
        "words_lower = [w.lower() for w in words_no_punkt]\n",
        "print(\"# words lowercase\", len(words_lower))\n",
        "print(words_lower)"
      ]
    },
    {
      "cell_type": "code",
      "source": [
        "download('stopwords')\n",
        "from nltk.corpus import stopwords\n",
        "print(\"number stopwords\", len(stopwords.words(\"english\")))\n",
        "print(stopwords.words(\"english\"))\n",
        "words_no_stop = [w for w in words_lower if w not in stopwords.words(\"english\")]\n",
        "print('# words no stopwords', len(words_no_stop))\n",
        "print(words_no_stop)"
      ],
      "metadata": {
        "id": "mvC_-i_SBwGS",
        "colab": {
          "base_uri": "https://localhost:8080/"
        },
        "outputId": "8667bb52-63ed-4a80-a2f5-d4fbf27cb3a9"
      },
      "execution_count": 8,
      "outputs": [
        {
          "output_type": "stream",
          "name": "stdout",
          "text": [
            "number stopwords 179\n",
            "['i', 'me', 'my', 'myself', 'we', 'our', 'ours', 'ourselves', 'you', \"you're\", \"you've\", \"you'll\", \"you'd\", 'your', 'yours', 'yourself', 'yourselves', 'he', 'him', 'his', 'himself', 'she', \"she's\", 'her', 'hers', 'herself', 'it', \"it's\", 'its', 'itself', 'they', 'them', 'their', 'theirs', 'themselves', 'what', 'which', 'who', 'whom', 'this', 'that', \"that'll\", 'these', 'those', 'am', 'is', 'are', 'was', 'were', 'be', 'been', 'being', 'have', 'has', 'had', 'having', 'do', 'does', 'did', 'doing', 'a', 'an', 'the', 'and', 'but', 'if', 'or', 'because', 'as', 'until', 'while', 'of', 'at', 'by', 'for', 'with', 'about', 'against', 'between', 'into', 'through', 'during', 'before', 'after', 'above', 'below', 'to', 'from', 'up', 'down', 'in', 'out', 'on', 'off', 'over', 'under', 'again', 'further', 'then', 'once', 'here', 'there', 'when', 'where', 'why', 'how', 'all', 'any', 'both', 'each', 'few', 'more', 'most', 'other', 'some', 'such', 'no', 'nor', 'not', 'only', 'own', 'same', 'so', 'than', 'too', 'very', 's', 't', 'can', 'will', 'just', 'don', \"don't\", 'should', \"should've\", 'now', 'd', 'll', 'm', 'o', 're', 've', 'y', 'ain', 'aren', \"aren't\", 'couldn', \"couldn't\", 'didn', \"didn't\", 'doesn', \"doesn't\", 'hadn', \"hadn't\", 'hasn', \"hasn't\", 'haven', \"haven't\", 'isn', \"isn't\", 'ma', 'mightn', \"mightn't\", 'mustn', \"mustn't\", 'needn', \"needn't\", 'shan', \"shan't\", 'shouldn', \"shouldn't\", 'wasn', \"wasn't\", 'weren', \"weren't\", 'won', \"won't\", 'wouldn', \"wouldn't\"]\n",
            "# words no stopwords 10\n",
            "[\"n't\", 'text', 'back', 'yet', \"n't\", 'like', 'anymore', 'way', 'trying', 'team']\n"
          ]
        },
        {
          "output_type": "stream",
          "name": "stderr",
          "text": [
            "[nltk_data] Downloading package stopwords to /root/nltk_data...\n",
            "[nltk_data]   Unzipping corpora/stopwords.zip.\n"
          ]
        }
      ]
    },
    {
      "cell_type": "code",
      "execution_count": 9,
      "metadata": {
        "tags": [],
        "colab": {
          "base_uri": "https://localhost:8080/"
        },
        "id": "PHwSSJy5wtgG",
        "outputId": "bd9fc712-5722-4bd6-8b52-7daff23e67a3"
      },
      "outputs": [
        {
          "output_type": "stream",
          "name": "stderr",
          "text": [
            "[nltk_data] Downloading package averaged_perceptron_tagger to\n",
            "[nltk_data]     /root/nltk_data...\n",
            "[nltk_data]   Unzipping taggers/averaged_perceptron_tagger.zip.\n"
          ]
        },
        {
          "output_type": "stream",
          "name": "stdout",
          "text": [
            "[('``', '``'), ('Why', 'WRB'), ('did', 'VBD'), (\"n't\", 'RB'), ('she', 'PRP'), ('text', 'VB'), ('me', 'PRP'), ('back', 'RB'), ('yet', 'RB'), ('?', '.')]\n",
            "[('She', 'PRP'), ('does', 'VBZ'), (\"n't\", 'RB'), ('like', 'VB'), ('me', 'PRP'), ('anymore', 'RB'), ('!', '.'), (\"''\", \"''\")]\n",
            "[('There', 'EX'), (\"'s\", 'VBZ'), ('no', 'DT'), ('way', 'NN'), ('I', 'PRP'), (\"'m\", 'VBP'), ('trying', 'VBG'), ('out', 'RP'), ('for', 'IN'), ('the', 'DT'), ('team', 'NN'), ('.', '.')]\n",
            "[('``', '``'), ('Why', 'WRB'), ('did', 'VBD'), (\"n't\", 'RB'), ('she', 'PRP'), ('text', 'VB'), ('me', 'PRP'), ('back', 'RB'), ('yet', 'RB'), ('?', '.'), ('She', 'PRP'), ('does', 'VBZ'), (\"n't\", 'RB'), ('like', 'VB'), ('me', 'PRP'), ('anymore', 'RB'), ('!', '.'), (\"''\", \"''\"), ('There', 'EX'), (\"'s\", 'VBZ'), ('no', 'DT'), ('way', 'NN'), ('I', 'PRP'), (\"'m\", 'VBP'), ('trying', 'VBG'), ('out', 'RP'), ('for', 'IN'), ('the', 'DT'), ('team', 'NN'), ('.', '.')]\n"
          ]
        }
      ],
      "source": [
        "# attach parts of speech - for words in each sentence \n",
        "from nltk import pos_tag\n",
        "download('averaged_perceptron_tagger')\n",
        "\n",
        "words_pos = []\n",
        "for s in sents: # for each sentence\n",
        "  words_s = word_tokenize(s)\n",
        "  pos_sents = pos_tag(words_s) # extract parts of speech\n",
        "  print(pos_sents)\n",
        "  words_pos.extend(pos_sents) # different than append \n",
        "print(words_pos)"
      ]
    },
    {
      "cell_type": "code",
      "execution_count": 18,
      "metadata": {
        "tags": [],
        "id": "Ey3AhMaOwtgH",
        "outputId": "ff836646-7aa5-42b2-c801-14ccc2cf6917",
        "colab": {
          "base_uri": "https://localhost:8080/"
        }
      },
      "outputs": [
        {
          "output_type": "stream",
          "name": "stdout",
          "text": [
            "# nouns/verbs/adverbs/adj 15\n",
            "[['did', 'v'], [\"n't\", 'r'], ['text', 'v'], ['back', 'r'], ['yet', 'r'], ['does', 'v'], [\"n't\", 'r'], ['like', 'v'], ['anymore', 'r'], [\"'s\", 'v'], ['way', 'n'], [\"'m\", 'v'], ['trying', 'v'], ['out', 'r'], ['team', 'n']]\n"
          ]
        }
      ],
      "source": [
        "# eliminate all words that are not nouns, verbs, adj or adverbs\n",
        "string_keep = 'NVRJ' # N = nouns, \n",
        "words_nvrj = [[w,pos[0].lower()] for (w,pos) in words_pos if pos[0] in string_keep] #LIST COMPREHENSION, pos stands for parts of speech\n",
        "print('# nouns/verbs/adverbs/adj', len(words_nvrj))\n",
        "print(words_nvrj)\n"
      ]
    },
    {
      "cell_type": "code",
      "source": [
        "# show stemming - cuts parts of words that vary with part of speech or tense (Verb)\n",
        "from nltk.stem import *\n",
        "stemmer = PorterStemmer()\n",
        "stemmed_words = stemmer.stem(words_nvrj[0][0])\n",
        "print(stemmed_words)"
      ],
      "metadata": {
        "id": "Dv1lQYJgB3gD",
        "colab": {
          "base_uri": "https://localhost:8080/"
        },
        "outputId": "806e6ced-9858-4dc3-b4a0-0965b391fb0d"
      },
      "execution_count": 20,
      "outputs": [
        {
          "output_type": "stream",
          "name": "stdout",
          "text": [
            "did\n"
          ]
        }
      ]
    },
    {
      "cell_type": "code",
      "execution_count": null,
      "metadata": {
        "id": "-Lo7PoaHwtgH"
      },
      "outputs": [],
      "source": [
        "# show lemmatization "
      ]
    }
  ],
  "metadata": {
    "kernelspec": {
      "display_name": "Python 3",
      "language": "python",
      "name": "python3"
    },
    "language_info": {
      "codemirror_mode": {
        "name": "ipython",
        "version": 3
      },
      "file_extension": ".py",
      "mimetype": "text/x-python",
      "name": "python",
      "nbconvert_exporter": "python",
      "pygments_lexer": "ipython3",
      "version": "3.7.3-final"
    },
    "colab": {
      "provenance": [],
      "collapsed_sections": [],
      "include_colab_link": true
    }
  },
  "nbformat": 4,
  "nbformat_minor": 0
}